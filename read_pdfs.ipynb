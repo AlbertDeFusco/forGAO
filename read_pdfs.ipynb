{
 "cells": [
  {
   "cell_type": "markdown",
   "metadata": {},
   "source": [
    "## pdfminer"
   ]
  },
  {
   "cell_type": "markdown",
   "metadata": {},
   "source": [
    "The easiest way to use [pdfminer.six](https://github.com/pdfminer/pdfminer.six) is with the `extract_text_to_fp` function."
   ]
  },
  {
   "cell_type": "code",
   "execution_count": 1,
   "metadata": {
    "collapsed": true
   },
   "outputs": [],
   "source": [
    "from pdfminer.high_level import extract_text_to_fp"
   ]
  },
  {
   "cell_type": "code",
   "execution_count": 2,
   "metadata": {},
   "outputs": [
    {
     "name": "stdout",
     "output_type": "stream",
     "text": [
      "Help on function extract_text_to_fp in module pdfminer.high_level:\n",
      "\n",
      "extract_text_to_fp(inf, outfp, _py2_no_more_posargs=None, output_type='text', codec='utf-8', laparams=None, maxpages=0, page_numbers=None, password='', scale=1.0, rotation=0, layoutmode='normal', output_dir=None, strip_control=False, debug=False, disable_caching=False, **other)\n",
      "    Parses text from inf-file and writes to outfp file-like object.\n",
      "    Takes loads of optional arguments but the defaults are somewhat sane.\n",
      "    Beware laparams: Including an empty LAParams is not the same as passing None!\n",
      "    Returns nothing, acting as it does on two streams. Use StringIO to get strings.\n",
      "    \n",
      "    output_type: May be 'text', 'xml', 'html', 'tag'. Only 'text' works properly.\n",
      "    codec: Text decoding codec\n",
      "    laparams: An LAParams object from pdfminer.layout.\n",
      "        Default is None but may not layout correctly.\n",
      "    maxpages: How many pages to stop parsing after\n",
      "    page_numbers: zero-indexed page numbers to operate on.\n",
      "    password: For encrypted PDFs, the password to decrypt.\n",
      "    scale: Scale factor\n",
      "    rotation: Rotation factor\n",
      "    layoutmode: Default is 'normal', see pdfminer.converter.HTMLConverter\n",
      "    output_dir: If given, creates an ImageWriter for extracted images.\n",
      "    strip_control: Does what it says on the tin\n",
      "    debug: Output more logging data\n",
      "    disable_caching: Does what it says on the tin\n",
      "\n"
     ]
    }
   ],
   "source": [
    "help(extract_text_to_fp)"
   ]
  },
  {
   "cell_type": "markdown",
   "metadata": {},
   "source": [
    "## StringIO"
   ]
  },
  {
   "cell_type": "markdown",
   "metadata": {},
   "source": [
    "Since we want to read the PDF into a Python string we'll use [StringIO](https://docs.python.org/3/library/io.html#text-i-o) to make a string that *behaves like a file*."
   ]
  },
  {
   "cell_type": "code",
   "execution_count": 3,
   "metadata": {
    "collapsed": true
   },
   "outputs": [],
   "source": [
    "from io import StringIO\n",
    "text_file = StringIO()"
   ]
  },
  {
   "cell_type": "code",
   "execution_count": 11,
   "metadata": {},
   "outputs": [],
   "source": [
    "with open('EPA-HQ-OPP-2015-0376-0003.pdf', 'rb') as f:\n",
    "    extract_text_to_fp(f, text_file)"
   ]
  },
  {
   "cell_type": "code",
   "execution_count": 12,
   "metadata": {},
   "outputs": [
    {
     "data": {
      "text/plain": [
       "_io.StringIO"
      ]
     },
     "execution_count": 12,
     "metadata": {},
     "output_type": "execute_result"
    }
   ],
   "source": [
    "type(text_file)"
   ]
  },
  {
   "cell_type": "code",
   "execution_count": 13,
   "metadata": {},
   "outputs": [
    {
     "data": {
      "text/plain": [
       "str"
      ]
     },
     "execution_count": 13,
     "metadata": {},
     "output_type": "execute_result"
    }
   ],
   "source": [
    "pdf_contents = text_file.getvalue()\n",
    "type(pdf_contents)"
   ]
  },
  {
   "cell_type": "markdown",
   "metadata": {},
   "source": [
    "## the pdf contents"
   ]
  },
  {
   "cell_type": "markdown",
   "metadata": {},
   "source": [
    "Here's the first 1000 characters. Notice that ere are no newlines or other helpful formatting. It is possible that more advanced usage of pdfminer can recover the layout.\n",
    "\n",
    "From here you may want to use some Natural Language Processing packages, like [NLTK](http://www.nltk.org/)."
   ]
  },
  {
   "cell_type": "code",
   "execution_count": 7,
   "metadata": {},
   "outputs": [
    {
     "name": "stdout",
     "output_type": "stream",
     "text": [
      "71944 Federal Register/Vol. 80, No. 222/Wednesday, November 18, 2015/Rules and Regulations (NEPA) (42 U.S.C. 4321–4370f), and have made a preliminary determination that this action is one of a category of actions that do not individually or cumulatively have a significant effect on the human environment. This rule involves the establishment of a safety zone around an OCS Facility to protect life, property and the marine environment. This rule is categorically excluded from further review under paragraph 34(g) of Figure 2–1 of the Commandant Instruction. The environmental analysis checklist supporting this determination and Categorical Exclusion Determination are available in the docket where indicated under ADDRESSES. G. Protest Activities The Coast Guard respects the First Amendment rights of protesters. Protesters are asked to contact the person listed in the FORFURTHER INFORMATIONCONTACTsection to coordinate protest activities so that your message can be received without jeopardizin\n"
     ]
    }
   ],
   "source": [
    "print(pdf_contents[:1000])"
   ]
  }
 ],
 "metadata": {
  "kernelspec": {
   "display_name": "Python [conda env:pdf]",
   "language": "python",
   "name": "conda-env-pdf-py"
  },
  "language_info": {
   "codemirror_mode": {
    "name": "ipython",
    "version": 3
   },
   "file_extension": ".py",
   "mimetype": "text/x-python",
   "name": "python",
   "nbconvert_exporter": "python",
   "pygments_lexer": "ipython3",
   "version": "3.6.2"
  }
 },
 "nbformat": 4,
 "nbformat_minor": 2
}

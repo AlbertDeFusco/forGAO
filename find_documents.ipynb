{
 "cells": [
  {
   "cell_type": "markdown",
   "metadata": {},
   "source": [
    "## prep"
   ]
  },
  {
   "cell_type": "markdown",
   "metadata": {},
   "source": [
    "Read the Terms of Service\n",
    "\n",
    "https://regulationsgov.github.io/developers/terms/"
   ]
  },
  {
   "cell_type": "markdown",
   "metadata": {},
   "source": [
    "Step 1: request an API key\n",
    "\n",
    "https://regulationsgov.github.io/developers/key/\n",
    "\n",
    "Assign the key as a quoted string called `API_KEY`."
   ]
  },
  {
   "cell_type": "code",
   "execution_count": 1,
   "metadata": {
    "collapsed": true
   },
   "outputs": [],
   "source": [
    "API_KEY = 'your api key here'"
   ]
  },
  {
   "cell_type": "markdown",
   "metadata": {},
   "source": [
    "## search for documents"
   ]
  },
  {
   "cell_type": "markdown",
   "metadata": {},
   "source": [
    "Regulations.gov publishes three separate APIs for retrieving data. [Full documentation is here](http://regulationsgov.github.io/developers/console/#!/documents.json/documents_get_0)\n",
    "\n",
    "`documents.json`: search across all of regulations.gov for documents.\n",
    "\n",
    "`document.json`: retrieve specific metadata about a single document using the FDMS Document ID.\n",
    "\n",
    "`docket.json`: retrieve specific metadata about a single docket using the Docket ID."
   ]
  },
  {
   "cell_type": "markdown",
   "metadata": {},
   "source": [
    "We'll begin by preparing a request to the `documents.json` API. The minimum required payload is the `'api_key'` and the search term `'s'`."
   ]
  },
  {
   "cell_type": "code",
   "execution_count": 2,
   "metadata": {
    "collapsed": true
   },
   "outputs": [],
   "source": [
    "big_search_url = 'https://api.data.gov/regulations/v3/documents.json'\n",
    "\n",
    "search_payload = {\n",
    "    'api_key': API_KEY,\n",
    "    's':\"benzene\"\n",
    "}"
   ]
  },
  {
   "cell_type": "markdown",
   "metadata": {},
   "source": [
    "The json() portion of the response is a dictionary with two keys."
   ]
  },
  {
   "cell_type": "code",
   "execution_count": 6,
   "metadata": {},
   "outputs": [
    {
     "data": {
      "text/plain": [
       "dict_keys(['documents', 'totalNumRecords'])"
      ]
     },
     "execution_count": 6,
     "metadata": {},
     "output_type": "execute_result"
    }
   ],
   "source": [
    "import requests\n",
    "response = requests.get(big_search_url, params=search_payload)\n",
    "documents = response.json()\n",
    "documents.keys()"
   ]
  },
  {
   "cell_type": "code",
   "execution_count": 7,
   "metadata": {
    "scrolled": true
   },
   "outputs": [
    {
     "data": {
      "text/plain": [
       "31062"
      ]
     },
     "execution_count": 7,
     "metadata": {},
     "output_type": "execute_result"
    }
   ],
   "source": [
    "total_records = documents['totalNumRecords']\n",
    "total_records"
   ]
  },
  {
   "cell_type": "markdown",
   "metadata": {},
   "source": [
    "*This is the total number of documents available on regulations.gov.*\n",
    "\n",
    "You can confirm this number at the following link, which searches for *all* documents relating to `'python'`.\n",
    "\n",
    "https://www.regulations.gov/searchResults?rpp=25&po=0&s=python"
   ]
  },
  {
   "cell_type": "markdown",
   "metadata": {},
   "source": [
    "The `'totalNumRecords'` is different from the number of documents we got in this response because the API will only return 25 items at a time by default."
   ]
  },
  {
   "cell_type": "code",
   "execution_count": 8,
   "metadata": {},
   "outputs": [
    {
     "data": {
      "text/plain": [
       "list"
      ]
     },
     "execution_count": 8,
     "metadata": {},
     "output_type": "execute_result"
    }
   ],
   "source": [
    "these_documents = documents['documents']\n",
    "type(these_documents)"
   ]
  },
  {
   "cell_type": "code",
   "execution_count": 9,
   "metadata": {},
   "outputs": [
    {
     "data": {
      "text/plain": [
       "25"
      ]
     },
     "execution_count": 9,
     "metadata": {},
     "output_type": "execute_result"
    }
   ],
   "source": [
    "len(these_documents)"
   ]
  },
  {
   "cell_type": "markdown",
   "metadata": {},
   "source": [
    "Here's the first entry. Pay attention to the `'documentId'` field. We'll use it later."
   ]
  },
  {
   "cell_type": "code",
   "execution_count": 10,
   "metadata": {
    "scrolled": true
   },
   "outputs": [
    {
     "data": {
      "text/plain": [
       "{'agencyAcronym': 'EPA',\n",
       " 'allowLateComment': False,\n",
       " 'attachmentCount': 0,\n",
       " 'commentDueDate': None,\n",
       " 'commentStartDate': None,\n",
       " 'docketId': 'EPA-HQ-SFUND-1989-0005',\n",
       " 'docketTitle': 'Reportable Quantity Adjustments Final Rule for Carcinogens; Proposed Rule 54 FR 33418 (8/14/89)',\n",
       " 'docketType': 'Rulemaking',\n",
       " 'documentId': 'EPA-HQ-SFUND-1989-0005-0314',\n",
       " 'documentStatus': 'Posted',\n",
       " 'documentType': 'Supporting & Related Material',\n",
       " 'numberOfCommentsReceived': 0,\n",
       " 'openForComment': False,\n",
       " 'postedDate': '2017-04-05T00:00:00-04:00',\n",
       " 'rin': 'Not Assigned',\n",
       " 'summary': \"Document Contents : ...y 1QR3 Agency ' svEPA Research and %%-iS-^ Development REPORTABLE QUANTITY DOCUMENT FOR <endeca_term>BENZENE</endeca_term>. PENTACHLORONITRO- Prepared for OFFICE OF SOLID WASTE AND EMERGENCY RESPONSE Prepared by...\",\n",
       " 'title': 'Research and Development Reportable Quality Document for Benzene, Pentachloronitrobenzene (82-68-8]  [102RQ-273C-3-1'}"
      ]
     },
     "execution_count": 10,
     "metadata": {},
     "output_type": "execute_result"
    }
   ],
   "source": [
    "these_documents[0]"
   ]
  },
  {
   "cell_type": "markdown",
   "metadata": {},
   "source": [
    "## retrieve all records"
   ]
  },
  {
   "cell_type": "markdown",
   "metadata": {},
   "source": [
    "Let's use the above search and retrieve only finalized rules \n",
    "\n",
    "To do this we need to do two things:\n",
    "1. Set the document type `'dct='FR'` parameter.\n",
    "2. Iteratively update the `'po'` (page number) parameter, starting at zero, until all documents are found."
   ]
  },
  {
   "cell_type": "code",
   "execution_count": 11,
   "metadata": {},
   "outputs": [
    {
     "data": {
      "text/plain": [
       "469"
      ]
     },
     "execution_count": 11,
     "metadata": {},
     "output_type": "execute_result"
    }
   ],
   "source": [
    "search_payload['dct'] = 'FR'\n",
    "response = requests.get(big_search_url, params=search_payload)\n",
    "total_records = response.json()['totalNumRecords']\n",
    "total_records"
   ]
  },
  {
   "cell_type": "code",
   "execution_count": 13,
   "metadata": {
    "collapsed": true
   },
   "outputs": [],
   "source": [
    "# collect all list-of-documents here\n",
    "found_documents = []\n",
    "\n",
    "#initialize the page number\n",
    "search_payload['po'] = 0\n",
    "\n",
    "while len(found_documents) < total_records:\n",
    "    response = requests.get(big_search_url, params=search_payload)\n",
    "    \n",
    "    # docs is a list\n",
    "    docs = response.json()['documents']\n",
    "    # stitch all of the items on the larger list\n",
    "    found_documents.extend(docs)\n",
    "    \n",
    "    # increment the page number\n",
    "    search_payload['po'] += 1"
   ]
  },
  {
   "cell_type": "markdown",
   "metadata": {},
   "source": [
    "We actually ended up with more records then we thought."
   ]
  },
  {
   "cell_type": "code",
   "execution_count": 14,
   "metadata": {
    "scrolled": true
   },
   "outputs": [
    {
     "data": {
      "text/plain": [
       "475"
      ]
     },
     "execution_count": 14,
     "metadata": {},
     "output_type": "execute_result"
    }
   ],
   "source": [
    "len(found_documents)"
   ]
  },
  {
   "cell_type": "markdown",
   "metadata": {},
   "source": [
    "## retrieve more specific information"
   ]
  },
  {
   "cell_type": "markdown",
   "metadata": {},
   "source": [
    "For each document let's try to find the link to the PDF. To do this we'll need to make a separate request to the `document.json` API using the `documentId` we found earlier.\n",
    "\n",
    "The `document.json` returns a different set of information than above. Here's the full list of information.\n",
    "\n",
    "http://regulationsgov.github.io/developers/fields/"
   ]
  },
  {
   "cell_type": "code",
   "execution_count": 15,
   "metadata": {
    "collapsed": true
   },
   "outputs": [],
   "source": [
    "doc_url = 'https://api.data.gov/regulations/v3/document.json'\n",
    "doc_payload = {'api_key':API_KEY}"
   ]
  },
  {
   "cell_type": "markdown",
   "metadata": {},
   "source": [
    "We need to iterate through all of the documents we found above, place the `'documentId'` value in the `document.json` payload and grab all values of `'fileFormats'`.\n",
    "\n",
    "**Note**: after some trial-and-error some documents had `'attachments'` while some just had `'fileFormats'`. It's likely that more restrictive searching will produce a single document type and avoid having to search for both."
   ]
  },
  {
   "cell_type": "code",
   "execution_count": 16,
   "metadata": {
    "collapsed": true
   },
   "outputs": [],
   "source": [
    "# save the links to the PDF files\n",
    "pdf_links = []\n",
    "\n",
    "for doc in found_documents:\n",
    "    doc_payload['documentId'] = doc['documentId']\n",
    "    doc_response = requests.get(doc_url, params=doc_payload)\n",
    "    doc = doc_response.json()\n",
    "    \n",
    "    # the pdf_links should also store the expected filename\n",
    "    # of the pdf as well. Perhaps in list-of-lists or tuple.\n",
    "    \n",
    "    if 'fileFormats' in doc:\n",
    "        pdf_links.extend(doc['fileFormats'])\n",
    "    if 'attachments' in doc:\n",
    "        for f in doc['attachments']:\n",
    "            if 'fileFormats' in f:\n",
    "                pdf_links.extend(f['fileFormats'])"
   ]
  },
  {
   "cell_type": "code",
   "execution_count": 17,
   "metadata": {},
   "outputs": [
    {
     "data": {
      "text/plain": [
       "804"
      ]
     },
     "execution_count": 17,
     "metadata": {},
     "output_type": "execute_result"
    }
   ],
   "source": [
    "len(pdf_links)"
   ]
  },
  {
   "cell_type": "markdown",
   "metadata": {},
   "source": [
    "Let's just save the first one do disk"
   ]
  },
  {
   "cell_type": "code",
   "execution_count": 18,
   "metadata": {},
   "outputs": [
    {
     "data": {
      "text/plain": [
       "'https://api.data.gov/regulations/v3/download?documentId=EPA-HQ-OPP-2015-0376-0003&contentType=pdf'"
      ]
     },
     "execution_count": 18,
     "metadata": {},
     "output_type": "execute_result"
    }
   ],
   "source": [
    "first_pdf = pdf_links[0]\n",
    "first_pdf"
   ]
  },
  {
   "cell_type": "markdown",
   "metadata": {},
   "source": [
    "This trick is just to extract the documentId from the PDF url."
   ]
  },
  {
   "cell_type": "code",
   "execution_count": 19,
   "metadata": {},
   "outputs": [
    {
     "data": {
      "text/plain": [
       "'EPA-HQ-OPP-2015-0376-0003'"
      ]
     },
     "execution_count": 19,
     "metadata": {},
     "output_type": "execute_result"
    }
   ],
   "source": [
    "from urllib.parse import urlparse\n",
    "docId = urlparse(first_pdf).query.split('&')[0].split('=')[1]\n",
    "docId"
   ]
  },
  {
   "cell_type": "markdown",
   "metadata": {},
   "source": [
    "If you wanted to save all of them just do the following in a loop.\n",
    "\n",
    "**Note**: the API_KEY is necessary."
   ]
  },
  {
   "cell_type": "code",
   "execution_count": 20,
   "metadata": {
    "collapsed": true
   },
   "outputs": [],
   "source": [
    "with open(docId+'.pdf', 'wb') as f:\n",
    "    pdf = requests.get(first_pdf, params={'api_key':API_KEY})\n",
    "    f.write(pdf.content)"
   ]
  }
 ],
 "metadata": {
  "kernelspec": {
   "display_name": "Python [conda env:anaconda-training]",
   "language": "python",
   "name": "conda-env-anaconda-training-py"
  },
  "language_info": {
   "codemirror_mode": {
    "name": "ipython",
    "version": 3
   },
   "file_extension": ".py",
   "mimetype": "text/x-python",
   "name": "python",
   "nbconvert_exporter": "python",
   "pygments_lexer": "ipython3",
   "version": "3.6.1"
  }
 },
 "nbformat": 4,
 "nbformat_minor": 2
}
